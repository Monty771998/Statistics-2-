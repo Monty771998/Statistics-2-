{
 "cells": [
  {
   "cell_type": "markdown",
   "id": "2af23fc7-ebb0-41cb-8173-c96d76792164",
   "metadata": {},
   "source": [
    "Q1. What are the three measures of central tendency?"
   ]
  },
  {
   "cell_type": "markdown",
   "id": "c873a309-ca43-4802-93a4-e5a331dbfa5f",
   "metadata": {},
   "source": [
    "Mean, Median, Mode."
   ]
  },
  {
   "cell_type": "code",
   "execution_count": null,
   "id": "20487915-8e2a-4c08-8ded-8064c38c4ea5",
   "metadata": {},
   "outputs": [],
   "source": []
  },
  {
   "cell_type": "markdown",
   "id": "800de55a-1ab8-412d-9254-d3193d027161",
   "metadata": {},
   "source": [
    "Q2. What is the difference between the mean, median, and mode? How are they used to measure the\n",
    "central tendency of a dataset?"
   ]
  },
  {
   "cell_type": "markdown",
   "id": "c8b9edbc-d588-43a6-b925-1e8c023fe5a4",
   "metadata": {},
   "source": [
    "Mean:\n",
    "\n",
    "    a)The mean is the arithmetic average of a dataset. It is calculated by summing up all the data values and\n",
    "      dividing by the number of values.\n",
    "    b)The mean is sensitive to outliers because it takes into account every data point. A single extreme value\n",
    "      can significantly affect the mean.\n",
    "    c)It's used to find the balance point of the data distribution, indicating where the values tend to cluster around.\n",
    "\n",
    "    \n",
    "Median:\n",
    "\n",
    "    a)The median is the middle value in a dataset when the values are arranged in order.\n",
    "    b)The median is less affected by outliers compared to the mean. It is a better measure of central tendency\n",
    "      when the data distribution is skewed or contains extreme values.\n",
    "    c)It's used to represent the \"typical\" value and divides the data into two halves: half of the values are \n",
    "      greater than the median, and half are less.\n",
    "\n",
    "        \n",
    "Mode:\n",
    "\n",
    "    a)The mode is the value that appears most frequently in a dataset.\n",
    "    b)The mode can be useful for identifying the most common value or category in the data. It's often used \n",
    "      for categorical data.\n",
    "    c)A dataset can have one mode (unimodal), two modes (bimodal), or more (multimodal)."
   ]
  },
  {
   "cell_type": "code",
   "execution_count": null,
   "id": "ee0bed0f-69d5-4a7c-bbf9-840d2bed543e",
   "metadata": {},
   "outputs": [],
   "source": []
  },
  {
   "cell_type": "raw",
   "id": "316b3063-8687-442b-ba55-1d6a8240710b",
   "metadata": {},
   "source": [
    "Q3. Measure the three measures of central tendency for the given height data:\n",
    "[178,177,176,177,178.2,178,175,179,180,175,178.9,176.2,177,172.5,178,176.5]"
   ]
  },
  {
   "cell_type": "markdown",
   "id": "76057e16-9cb2-4ad8-852e-5a747b8bdacb",
   "metadata": {},
   "source": [
    "Mean\n",
    "Sum of all values: 178,177,176,177,178.2,178,175,179,180,175,178.9,176.2,177,172.5,178,176.5 = 2661.1\n",
    "Number of values: 16\n",
    "Mean = 2661.1 / 16 = 166.31875\n",
    "\n",
    "Median\n",
    "Arrange data in ascending order: 172.5, 175, 175, 176, 176, 176.2, 177, 177, 177, 178, 178, 178, 178, 178.2, 178.9, 180\n",
    "Since there are 16 values (even number), the median is the average of the 8th and 9th values.\n",
    "\n",
    "Median = (177 + 177) / 2 = 177\n",
    "Mode\n",
    "The most frequent value is 178.\n",
    "Therefore, the mode is 178.\n",
    "\n",
    "\n"
   ]
  },
  {
   "cell_type": "code",
   "execution_count": null,
   "id": "355ca5ca-7f16-413d-bb25-a34d9ad5579b",
   "metadata": {},
   "outputs": [],
   "source": []
  },
  {
   "cell_type": "raw",
   "id": "e5a79cc9-2539-4624-a742-7bd11e42d6cb",
   "metadata": {},
   "source": [
    "Q4. Find the standard deviation for the given data:\n",
    "[178,177,176,177,178.2,178,175,179,180,175,178.9,176.2,177,172.5,178,176.5]"
   ]
  },
  {
   "cell_type": "markdown",
   "id": "00d9037b-2c83-4fde-ba7e-7349a985be86",
   "metadata": {},
   "source": [
    "Step 1: Calculate the mean\n",
    "Mean = (178 + 177 + 176 + ... + 176.5) / 16 = 2661.1 / 16 = 166.31875   \n",
    "\n",
    "Step 2: Calculate deviations from the mean\n",
    "Deviation = Data point - Mean = [0.9812499999999886, -0.01875000000001137, -1.0187500000000114, -0.01875000000001137, 1.1812499999999773, 0.9812499999999886, -2.0187500000000114, 1.9812499999999886, 2.9812499999999886, -2.0187500000000114, 1.8812499999999943, -0.8187500000000227, -0.01875000000001137, -4.518750000000011, 0.9812499999999886, -0.5187500000000114]\n",
    "\n",
    "Step 3: Square the deviations = [0.9628515624999777, 0.00035156250000042635, 1.037851562500023, 0.00035156250000042635, 1.3953515624999462, 0.9628515624999777, 4.075351562500046, 3.925351562499955, 8.887851562499932, 4.075351562500046, 3.5391015624999786, 0.6703515625000372, 0.00035156250000042635, 20.419101562500103, 0.9628515624999777, 0.26910156250001177]\n",
    "\n",
    "Step 4: Calculate the variance\n",
    "Sum of squared deviations = 62.35938\n",
    "Variance = 62.35938 / (16 - 1) = 4.15729\n",
    "\n",
    "Step 5: Calculate the standard deviation\n",
    "Standard deviation = sqrt(variance) = sqrt(4.15729) ≈ 2.039"
   ]
  },
  {
   "cell_type": "code",
   "execution_count": null,
   "id": "6176dcfa-5fe4-418b-9758-b6df30cf2ce2",
   "metadata": {},
   "outputs": [],
   "source": []
  },
  {
   "cell_type": "markdown",
   "id": "f2e2ea24-758b-4827-ba9d-818cee088a69",
   "metadata": {},
   "source": [
    "Q5. How are measures of dispersion such as range, variance, and standard deviation used to describe\n",
    "the spread of a dataset? Provide an example."
   ]
  },
  {
   "cell_type": "markdown",
   "id": "710a58cf-d1af-4c2b-b8fd-51eff83ed1c4",
   "metadata": {},
   "source": [
    "Measures of Dispersion\n",
    "Measures of dispersion quantify the spread or variability of a dataset.\n",
    "\n",
    "1)Range: The simplest measure, it's the difference between the highest and lowest values. \n",
    "It gives a basic idea of spread but is sensitive to outliers.\n",
    "\n",
    "Example: Heights of students in a class: Range = Tallest height - Shortest height\n",
    "Variance: Measures the average squared deviation from the mean. It provides a more precise measure\n",
    "of spread compared to range.\n",
    "\n",
    "Example: Variance of test scores.\n",
    "Standard Deviation: The square root of variance. It's more interpretable than variance as it's in the\n",
    "same units as the data.\n",
    "\n",
    "Example: Standard deviation of income levels.\n",
    "By understanding these measures, we can compare the spread of different datasets and make informed decisions\n",
    "about the data's distribution.\n",
    "\n",
    "\n",
    "\n",
    "\n",
    "\n",
    "\n",
    "\n",
    "\n"
   ]
  },
  {
   "cell_type": "code",
   "execution_count": null,
   "id": "651c20c8-0f64-480c-95b2-04587cc2eab7",
   "metadata": {},
   "outputs": [],
   "source": []
  },
  {
   "cell_type": "markdown",
   "id": "7ce25b2b-bcd9-46d8-897e-1675f27bfbe2",
   "metadata": {},
   "source": [
    "Q6. What is a Venn diagram?"
   ]
  },
  {
   "cell_type": "markdown",
   "id": "9b87cdfb-98aa-4384-b8f3-df10dd41a50a",
   "metadata": {},
   "source": [
    "A Venn diagram is a visual representation of the relationships between sets. It uses overlapping circles to\n",
    "show the similarities and differences between groups of items. The overlapping areas represent elements\n",
    "shared by multiple sets, while the non-overlapping areas represent unique elements. "
   ]
  },
  {
   "cell_type": "code",
   "execution_count": null,
   "id": "c2dcbb8d-c152-4d39-b1c4-25c232964a61",
   "metadata": {},
   "outputs": [],
   "source": []
  },
  {
   "cell_type": "markdown",
   "id": "7a69a8de-ce89-4b71-84f7-d69cb4c42ce3",
   "metadata": {},
   "source": [
    "Q7. For the two given sets A = (2,3,4,5,6,7) & B = (0,2,6,8,10). Find:\n",
    "(i) A B\n",
    "(ii) A ⋃ B"
   ]
  },
  {
   "cell_type": "markdown",
   "id": "fa92fd30-48b7-4124-aced-7da7ba2f07c4",
   "metadata": {},
   "source": [
    "Given sets: A = {2, 3, 4, 5, 6, 7} B = {0, 2, 6, 8, 10}\n",
    "\n",
    "(i) Intersection (A ∩ B): The intersection of two sets includes all elements that are common to both sets.\n",
    "\n",
    "A ∩ B = {2, 6}\n",
    "\n",
    "So, the intersection of sets A and B is {2, 6}.\n",
    "\n",
    "(ii) Union (A ∪ B): The union of two sets includes all unique elements from both sets, without duplicates.\n",
    "\n",
    "A ∪ B = {0, 2, 3, 4, 5, 6, 7, 8, 10}\n",
    "\n",
    "So, the union of sets A and B is {0, 2, 3, 4, 5, 6, 7, 8, 10}."
   ]
  },
  {
   "cell_type": "code",
   "execution_count": null,
   "id": "15fb4030-5672-4476-beaa-8495ece55e80",
   "metadata": {},
   "outputs": [],
   "source": []
  },
  {
   "cell_type": "markdown",
   "id": "f270f368-b295-4093-8278-920bb5396c08",
   "metadata": {},
   "source": [
    "Q8. What do you understand about skewness in data?"
   ]
  },
  {
   "cell_type": "markdown",
   "id": "7291863d-fc1d-413d-9e6d-24f4a241a2af",
   "metadata": {},
   "source": [
    "Skewness is a measure of the asymmetry of a probability distribution. It indicates whether the data is concentrated \n",
    "on the left or right side of the distribution. A symmetrical distribution (like a normal distribution) has a\n",
    "skewness of zero. A distribution with a long tail to the right is positively skewed, while one with a long tail \n",
    "to the left is negatively skewed"
   ]
  },
  {
   "cell_type": "code",
   "execution_count": null,
   "id": "8e9d4086-5c1a-4d88-9747-7e38ca5989ac",
   "metadata": {},
   "outputs": [],
   "source": []
  },
  {
   "cell_type": "markdown",
   "id": "ab9e2dc4-2289-43a3-bcb1-513d5cedb59b",
   "metadata": {},
   "source": [
    "Q9. If a data is right skewed then what will be the position of median with respect to mean?"
   ]
  },
  {
   "cell_type": "markdown",
   "id": "a3a235ff-905b-4dd0-bbef-44d4e2bf0901",
   "metadata": {},
   "source": [
    "In a right-skewed distribution, the median is less than the mean.\n",
    "This means that the mean is pulled towards the right tail of the distribution by the outliers.   \n"
   ]
  },
  {
   "cell_type": "code",
   "execution_count": null,
   "id": "1c948e16-5825-4a20-b35d-0ee6e4e2e47e",
   "metadata": {},
   "outputs": [],
   "source": []
  },
  {
   "cell_type": "markdown",
   "id": "4358c6e7-ba2e-49b6-a8cf-29fe5bff2a14",
   "metadata": {},
   "source": [
    "Q10. Explain the difference between covariance and correlation. How are these measures used in\n",
    "statistical analysis?"
   ]
  },
  {
   "cell_type": "markdown",
   "id": "2a0ec4db-fab6-4e40-8231-3baa52a409f1",
   "metadata": {},
   "source": [
    "1)Covariance measures the relationship between two variables. It indicates whether they tend to move together\n",
    "(positive covariance) or in opposite directions (negative covariance). However, covariance is sensitive to the scale \n",
    "of the variables, making it difficult to interpret the strength of the relationship.   \n",
    "\n",
    "2)Correlation is a standardized version of covariance that measures both the strength and direction of the linear\n",
    "relationship between two variables. It ranges from -1 to 1, where -1 indicates a perfect negative correlation, 1 indicates\n",
    "a perfect positive correlation, and 0 indicates no correlation.   \n",
    "\n",
    "\n",
    "Use in Statistical Analysis:\n",
    "\n",
    "Covariance: Primarily used as a building block for other statistical calculations, such as correlation and regression.\n",
    "Correlation: Commonly used to understand the relationship between variables, identify patterns, and build predictive models.\n",
    "             Correlation analysis is often a preliminary step in regression analysis.   \n",
    "\n"
   ]
  },
  {
   "cell_type": "code",
   "execution_count": null,
   "id": "f145da03-2f4c-4d46-ad7d-8bc6cfafae68",
   "metadata": {},
   "outputs": [],
   "source": []
  },
  {
   "cell_type": "markdown",
   "id": "c8c7c0dd-a317-40b3-afe2-e748a689ce02",
   "metadata": {},
   "source": [
    "Q11. What is the formula for calculating the sample mean? Provide an example calculation for a\n",
    "dataset."
   ]
  },
  {
   "cell_type": "markdown",
   "id": "23798ea7-dd2d-454b-ade1-8145c7d420b7",
   "metadata": {},
   "source": [
    "The formula for calculating the sample mean (average) of a dataset is:\n",
    "\n",
    "Sample Mean = (Sum of all data points) / (Number of data points)\n",
    "\n",
    "Here's an example calculation:\n",
    "\n",
    "Suppose you have the following dataset representing the scores of 5 students in a test: [85, 92, 78, 88, 95]\n",
    "\n",
    "Step 1: Add up all the data points: 85 + 92 + 78 + 88 + 95 = 438\n",
    "\n",
    "Step 2: Count the number of data points: There are 5 data points.\n",
    "\n",
    "Step 3: Calculate the sample mean: Sample Mean = 438 / 5 Sample Mean = 87.6\n",
    "\n",
    "So, the sample mean for the given dataset is 87.6, which represents the average score of the 5 students in the test."
   ]
  },
  {
   "cell_type": "code",
   "execution_count": null,
   "id": "fce25672-d452-4077-bb97-3378e119cb57",
   "metadata": {},
   "outputs": [],
   "source": []
  },
  {
   "cell_type": "markdown",
   "id": "06a6320f-e3bb-4551-9524-5100d6218371",
   "metadata": {},
   "source": [
    "Q12. For a normal distribution data what is the relationship between its measure of central tendency?"
   ]
  },
  {
   "cell_type": "markdown",
   "id": "be590b4c-8f18-4a84-b030-5d992331ab23",
   "metadata": {},
   "source": [
    "In a normal distribution, the mean, median, and mode are all equal.\n",
    "\n",
    "This is due to the symmetrical nature of the normal distribution curve, where the data is evenly distributed\n",
    "around the central peak"
   ]
  },
  {
   "cell_type": "code",
   "execution_count": null,
   "id": "3f6d8520-c45c-40e3-a875-4ae2dda10ecc",
   "metadata": {},
   "outputs": [],
   "source": []
  },
  {
   "cell_type": "markdown",
   "id": "5f883bc7-f498-4e4a-b81b-88c7c971ab50",
   "metadata": {},
   "source": [
    "Q13. How is covariance different from correlation?"
   ]
  },
  {
   "cell_type": "markdown",
   "id": "905aac7c-e404-47bc-bf99-e854ce7e24fc",
   "metadata": {},
   "source": [
    "Covariance and correlation both measure the relationship between two variables, but they differ in interpretation:\n",
    "\n",
    "1)Covariance indicates the direction of the relationship (positive or negative) but is affected by the scale of the variables.\n",
    "\n",
    "2)Correlation standardizes the covariance, providing a value between -1 and 1 that indicates both the direction and strength\n",
    "of the relationship.   \n",
    "\n",
    "In essence, correlation is a scaled version of covariance that is easier to interpret.   \n"
   ]
  },
  {
   "cell_type": "code",
   "execution_count": null,
   "id": "94f498dd-c3bc-49d6-88a8-5e323d219ff5",
   "metadata": {},
   "outputs": [],
   "source": []
  },
  {
   "cell_type": "markdown",
   "id": "9d522ea0-2450-4796-aa23-fdc226b7a99b",
   "metadata": {},
   "source": [
    "Q14. How do outliers affect measures of central tendency and dispersion? Provide an example."
   ]
  },
  {
   "cell_type": "markdown",
   "id": "45238c67-ee95-4650-8e0d-587ae75b65bd",
   "metadata": {},
   "source": [
    "Measures of Central Tendency:\n",
    "\n",
    "   1)Mean: Outliers can heavily influence the mean, pulling it in the direction of the outlier's value. The mean is\n",
    "           not robust to outliers and can be skewed by their presence.\n",
    "\n",
    "   2)Median: The median is less affected by outliers compared to the mean. It represents the middle value in the\n",
    "             dataset, so outliers have less impact on its value.\n",
    "\n",
    "   3)Mode: The mode is generally not affected by outliers since it represents the most frequently occurring value, \n",
    "           which might remain unchanged despite the presence of outliers.\n",
    "\n",
    "\n",
    "Measures of Dispersion:\n",
    "\n",
    "   1)Range: Outliers can significantly affect the range by stretching it towards the extreme values represented by\n",
    "            the outliers.\n",
    "\n",
    "   2)Variance and Standard Deviation: Outliers can greatly influence the variance and standard deviation. Since\n",
    "                                    these measures involve the squared differences between data points and the mean,\n",
    "                                    an outlier's large squared difference can inflate these measures.\n",
    "\n",
    "\n",
    "        \n",
    "Example: Consider the following dataset of exam scores (out of 100): [75, 85, 90, 92, 95, 98, 100, 105]\n",
    "\n",
    "Mean: The mean is affected by the outlier (105). Calculating the mean: Mean = (75 + 85 + 90 + 92 + 95 + 98 + 100 + 105) / 8\n",
    "Mean ≈ 93.875\n",
    "\n",
    "Median: The median is less affected by the outlier. Arranging the data in order: [75, 85, 90, 92, 95, 98, 100, 105]\n",
    "Median = (95 + 98) / 2 Median = 96.5\n",
    "\n",
    "Variance and Standard Deviation: The outlier's influence is stronger on variance and standard deviation due to the\n",
    "squared differences: Variance ≈ 97.4 Standard Deviation ≈ 9.87\n",
    "\n",
    "In this example, the outlier (105) affects the mean, variance, and standard deviation, while the median and mode remain\n",
    "relatively unchanged. Outliers can distort the measures of central tendency and dispersion, making it important to consider\n",
    "their presence and assess the robustness of the chosen measures to outliers."
   ]
  },
  {
   "cell_type": "code",
   "execution_count": null,
   "id": "42baef1d-4c60-4dbf-b86c-5920a1240af7",
   "metadata": {},
   "outputs": [],
   "source": []
  },
  {
   "cell_type": "code",
   "execution_count": null,
   "id": "43cbb91b-c045-48a5-81f8-8d9479565a69",
   "metadata": {},
   "outputs": [],
   "source": []
  },
  {
   "cell_type": "code",
   "execution_count": null,
   "id": "1247f589-c9b6-4320-bac1-4d694d283255",
   "metadata": {},
   "outputs": [],
   "source": []
  },
  {
   "cell_type": "code",
   "execution_count": null,
   "id": "cc877a09-0451-4cbe-bc90-1e040a0fb2ac",
   "metadata": {},
   "outputs": [],
   "source": []
  }
 ],
 "metadata": {
  "kernelspec": {
   "display_name": "Python 3 (ipykernel)",
   "language": "python",
   "name": "python3"
  },
  "language_info": {
   "codemirror_mode": {
    "name": "ipython",
    "version": 3
   },
   "file_extension": ".py",
   "mimetype": "text/x-python",
   "name": "python",
   "nbconvert_exporter": "python",
   "pygments_lexer": "ipython3",
   "version": "3.10.8"
  }
 },
 "nbformat": 4,
 "nbformat_minor": 5
}
